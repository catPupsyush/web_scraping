{
 "cells": [
  {
   "cell_type": "code",
   "execution_count": null,
   "metadata": {},
   "outputs": [],
   "source": [
    "def ga_scraper(login, password, accountName, downloadPath,\n",
    "              startDate, endDate, lang):\n",
    "    return visitorsFilesList"
   ]
  },
  {
   "cell_type": "code",
   "execution_count": 1,
   "metadata": {},
   "outputs": [],
   "source": [
    "# importing libraries\n",
    "import selenium\n",
    "import time\n",
    "import os\n",
    "from selenium import webdriver\n",
    "from selenium.webdriver.common.keys import Keys\n",
    "from selenium.webdriver.common.by import By\n",
    "from selenium.webdriver.support.ui import WebDriverWait\n",
    "from selenium.webdriver.support import expected_conditions as EC\n",
    "import pandas as pd "
   ]
  },
  {
   "cell_type": "code",
   "execution_count": 10,
   "metadata": {},
   "outputs": [],
   "source": [
    "# setting login, password etc.\n",
    "login =''\n",
    "password = ''\n",
    "audience = 'АУДИТОРИЯ'\n",
    "userStastics = 'Статистика по пользователям'\n",
    "startDate = '01.01.2017'\n",
    "endDate = '30.01.2017'\n",
    "#downloadPath = 'C:/Users/kudinov/Documents/Google_Analytics/Sandbox/jsons'\n",
    "downloadPath = 'C:/Users/Alexander/Downloads/json'"
   ]
  },
  {
   "cell_type": "code",
   "execution_count": 11,
   "metadata": {},
   "outputs": [],
   "source": [
    "# constructng a list of json file names with visitors data\n",
    "clientDataFileList = ['user-report-export.json']\n",
    "for i in range(1, 101):\n",
    "    clientDataFileList.append('user-report-export ('+str(i)+').json')\n"
   ]
  },
  {
   "cell_type": "code",
   "execution_count": 12,
   "metadata": {
    "scrolled": true
   },
   "outputs": [
    {
     "name": "stdout",
     "output_type": "stream",
     "text": [
      "Sobyakin asshole. Once\n"
     ]
    },
    {
     "ename": "TimeoutException",
     "evalue": "Message: \n",
     "output_type": "error",
     "traceback": [
      "\u001b[1;31m---------------------------------------------------------------------------\u001b[0m",
      "\u001b[1;31mTimeoutException\u001b[0m                          Traceback (most recent call last)",
      "\u001b[1;32m<ipython-input-12-b6b53ea739f0>\u001b[0m in \u001b[0;36m<module>\u001b[1;34m()\u001b[0m\n\u001b[0;32m     26\u001b[0m \u001b[1;32mtry\u001b[0m\u001b[1;33m:\u001b[0m\u001b[1;33m\u001b[0m\u001b[0m\n\u001b[0;32m     27\u001b[0m     element = WebDriverWait(driver, 30).until(\n\u001b[1;32m---> 28\u001b[1;33m         \u001b[0mEC\u001b[0m\u001b[1;33m.\u001b[0m\u001b[0mvisibility_of_element_located\u001b[0m\u001b[1;33m(\u001b[0m\u001b[1;33m(\u001b[0m\u001b[0mBy\u001b[0m\u001b[1;33m.\u001b[0m\u001b[0mNAME\u001b[0m\u001b[1;33m,\u001b[0m \u001b[1;34m'password'\u001b[0m\u001b[1;33m)\u001b[0m\u001b[1;33m)\u001b[0m\u001b[1;33m\u001b[0m\u001b[0m\n\u001b[0m\u001b[0;32m     29\u001b[0m     )\n\u001b[0;32m     30\u001b[0m \u001b[1;32mfinally\u001b[0m\u001b[1;33m:\u001b[0m\u001b[1;33m\u001b[0m\u001b[0m\n",
      "\u001b[1;32mC:\\ProgramData\\Anaconda3\\lib\\site-packages\\selenium\\webdriver\\support\\wait.py\u001b[0m in \u001b[0;36muntil\u001b[1;34m(self, method, message)\u001b[0m\n\u001b[0;32m     78\u001b[0m             \u001b[1;32mif\u001b[0m \u001b[0mtime\u001b[0m\u001b[1;33m.\u001b[0m\u001b[0mtime\u001b[0m\u001b[1;33m(\u001b[0m\u001b[1;33m)\u001b[0m \u001b[1;33m>\u001b[0m \u001b[0mend_time\u001b[0m\u001b[1;33m:\u001b[0m\u001b[1;33m\u001b[0m\u001b[0m\n\u001b[0;32m     79\u001b[0m                 \u001b[1;32mbreak\u001b[0m\u001b[1;33m\u001b[0m\u001b[0m\n\u001b[1;32m---> 80\u001b[1;33m         \u001b[1;32mraise\u001b[0m \u001b[0mTimeoutException\u001b[0m\u001b[1;33m(\u001b[0m\u001b[0mmessage\u001b[0m\u001b[1;33m,\u001b[0m \u001b[0mscreen\u001b[0m\u001b[1;33m,\u001b[0m \u001b[0mstacktrace\u001b[0m\u001b[1;33m)\u001b[0m\u001b[1;33m\u001b[0m\u001b[0m\n\u001b[0m\u001b[0;32m     81\u001b[0m \u001b[1;33m\u001b[0m\u001b[0m\n\u001b[0;32m     82\u001b[0m     \u001b[1;32mdef\u001b[0m \u001b[0muntil_not\u001b[0m\u001b[1;33m(\u001b[0m\u001b[0mself\u001b[0m\u001b[1;33m,\u001b[0m \u001b[0mmethod\u001b[0m\u001b[1;33m,\u001b[0m \u001b[0mmessage\u001b[0m\u001b[1;33m=\u001b[0m\u001b[1;34m''\u001b[0m\u001b[1;33m)\u001b[0m\u001b[1;33m:\u001b[0m\u001b[1;33m\u001b[0m\u001b[0m\n",
      "\u001b[1;31mTimeoutException\u001b[0m: Message: \n"
     ]
    }
   ],
   "source": [
    "# changing default download directory\n",
    "\n",
    "chromeOptions = webdriver.ChromeOptions()\n",
    "prefs = {\"download.default_directory\" : downloadPath}\n",
    "chromeOptions.add_experimental_option(\"prefs\",prefs)\n",
    "driver = webdriver.Chrome(executable_path=r\"chromedriver.exe\", chrome_options=chromeOptions)\n",
    "\n",
    "# going to the home web page\n",
    "#driver = webdriver.Chrome(executable_path=r\"chromedriver.exe\")\n",
    "driver.get(\"https://analytics.google.com/analytics/web/\")\n",
    "logFile = open('log_file.txt', 'w')\n",
    "logFile.writelines('Going to Google Analytics web page\\n')\n",
    "logFile.writelines('Parameters:\\n')\n",
    "logFile.writelines('{0}{1}'.format('Start date = ', startDate))\n",
    "logFile.writelines('{0}{1}'.format('End date = ', endDate))\n",
    "\n",
    "\n",
    "\n",
    "# checking that the opened page is desired\n",
    "#assert \"Analytics\" in driver.title\n",
    "\n",
    "\n",
    "\n",
    "# log-in (passing login) and clicking next (to the password) \n",
    "driver.find_element_by_id(\"identifierId\").clear()\n",
    "driver.find_element_by_id(\"identifierId\").send_keys(login)\n",
    "driver.find_element_by_id(\"identifierNext\").click()\n",
    "logFile.writelines('Logging in\\n')\n",
    "\n",
    "\n",
    "# passing password \n",
    "## Unworkable code -- driver.find_element_by_id(\"passwrd\").send_keys(password)\n",
    "## Unworkable code -- driver.find_element_by_id(\"passwordNext\").click()driver.find_element_by_name(\"password\").send_keys(password)\n",
    "try:\n",
    "    element = WebDriverWait(driver, 30).until(\n",
    "        EC.visibility_of_element_located((By.NAME, 'password'))\n",
    "    )\n",
    "except TimeoutException:\n",
    "    logFile.writelines('The page for entering password has not opened\\n')\n",
    "    driver.quit()\n",
    "    logFile.close()\n",
    "\n",
    "logFile.writelines('Sending password\\n')\n",
    "driver.find_element_by_name(\"password\").send_keys(password)\n",
    "element = driver.find_element_by_id('passwordNext')\n",
    "driver.execute_script(\"arguments[0].click();\", element)\n",
    "\n",
    "# navigating to the target web page, step 1\n",
    "try:\n",
    "    element = WebDriverWait(driver, 60).until(\n",
    "        EC.text_to_be_present_in_element((By.PARTIAL_LINK_TEXT, audience), audience)\n",
    "    )\n",
    "except TimeoutException:\n",
    "    logFile.writelines('The page with right menu Audience (Аудитория) has not opened\\n')\n",
    "    driver.quit()\n",
    "    logFile.close()\n",
    "\n",
    "logFile.writelines('Opening menu Audience (Аудитория)\\n')\n",
    "driver.find_element_by_partial_link_text(audience).click()\n",
    "\n",
    "# navigating to target web page, step 2\n",
    "try:\n",
    "    element = WebDriverWait(driver, 60).until(\n",
    "        EC.text_to_be_present_in_element((By.PARTIAL_LINK_TEXT, userStastics), userStastics)\n",
    "    )\n",
    "except TimeoutException:\n",
    "    logFile.writelines('The page with right submenu User Statistics (Статистика по пользователям) has not opened\\n')\n",
    "    driver.quit()\n",
    "    logFile.close()\n",
    "\n",
    "logFile.writelines('Opening submenu User Statistics (Статистика по пользователям)\\n')\n",
    "driver.find_element_by_partial_link_text(userStastics).click()\n",
    "\n",
    "# switching to the iframe by its name (galaxy) - that contains the right part of the page\n",
    "try:\n",
    "    element = WebDriverWait(driver, 60).until(\n",
    "        EC.visibility_of_element_located((By.NAME, 'galaxy'))\n",
    "    )\n",
    "except TimeoutException:\n",
    "    logFile.writelines('The page with User Statistics (Статистика по пользователям) has not loaded\\n')\n",
    "    driver.quit()\n",
    "    logFile.close()\n",
    "\n",
    "driver.switch_to.frame(driver.find_element_by_name('galaxy'))\n",
    "\n",
    "# activating datepicker by finding it by classs name and clicking with executing script\n",
    "try:\n",
    "    element = WebDriverWait(driver, 30).until(\n",
    "        EC.visibility_of_element_located((By.CLASS_NAME, '_GArn'))\n",
    "    )\n",
    "except TimeoutException:\n",
    "    logFile.writelines('Failed to activate calendar\\n')\n",
    "    driver.quit()\n",
    "    logFile.close()\n",
    "\n",
    "logFile.writelines('Activating calendar\\n')\n",
    "driver.find_element_by_class_name('_GArn').click()\n",
    "\n",
    "# selecting start and end dates\n",
    "driver.find_element_by_class_name('ID-datecontrol-primary-start').clear()\n",
    "driver.find_element_by_class_name('ID-datecontrol-primary-start').send_keys(startDate)\n",
    "driver.find_element_by_class_name('ID-datecontrol-primary-end').clear()\n",
    "driver.find_element_by_class_name('ID-datecontrol-primary-end').send_keys(endDate)\n",
    "driver.find_element_by_class_name('ID-apply').click()\n",
    "\n",
    "# displaying all the rows on the page\n",
    "try:\n",
    "    element = WebDriverWait(driver, 30).until(\n",
    "        EC.visibility_of_element_located((By.CLASS_NAME, 'ACTION-toggleRowShow'))\n",
    "    )\n",
    "except TimeoutException:\n",
    "    logFile.writelines('Failed to set 5000 rows at the page\\n')\n",
    "    driver.quit()\n",
    "    logFile.close()\n",
    "\n",
    "logFile.writelines('Setting 5000 rows in the table on the page to be visible\\n')\n",
    "driver.find_element_by_class_name(\"ACTION-toggleRowShow\").send_keys(5000)\n",
    "\n",
    "# downloading the top level summary table \"Статистика по пользователям\"\n",
    "time.sleep(5)\n",
    "driver.find_element_by_class_name(\"ID-exportControlButton\").click()\n",
    "li = driver.find_elements_by_class_name(\"ACTION-export\")\n",
    "li[2].click()\n",
    "\n",
    "# getting number of visitors' IDs from the summary table\n",
    "elem = driver.find_elements_by_class_name(\"C_USER_LIST_TEXT_DIV\")\n",
    "static_len = len(elem)\n",
    "\n",
    "# saving url of the page with the top level summary table \"Статистика по пользователям\"\n",
    "summaryTableURL = driver.current_url\n",
    "\n",
    "# renaming the downloaded file with the summary table to ClientSummary.xlsx\n",
    "os.rename('{0}{2}{1}'.format(downloadPath, os.listdir(downloadPath)[0],'/'),\n",
    "          '{0}{2}{1}'.format(downloadPath, 'ClientSummary.xlsx','/'))\n",
    "\n",
    "\n",
    "# loading the 1st column (IDs) from the summary table (ClientSummary.xlsx) dataFrame clientsID\n",
    "clientsID = pd.read_excel(io = '{0}{2}{1}'.format(downloadPath, 'ClientSummary.xlsx','/'), sheet_name = 'Набор данных1',\n",
    "                             index_col = [0])\n",
    "\n",
    "# creating the log file and storing # of visitors\n",
    "logFile.writelines('\\n)\n",
    "logFile.writelines('# of visitors:\\n')\n",
    "logFile.writelines('{0}'.format(len(clientsID)))\n",
    "logFile.writelines(' \\n')\n",
    "logFile.writelines(' \\n')\n",
    "\n",
    "\n",
    "for number in range(0,static_len):\n",
    "    logFile.writelines('# of step, ID:\\n')\n",
    "    if number in [101*i for i in range(1,50)]:\n",
    "        for k in range(0,101):\n",
    "            os.rename('{0}{2}{1}'.format(downloadPath, clientDataFileList[k],'/'),\n",
    "                      '{0}{2}{1}{3}'.format(downloadPath, clientsID.index[k+number-101],'/','.json'))        \n",
    "    time.sleep(2)\n",
    "    try:\n",
    "        element = WebDriverWait(driver, 60).until(EC.visibility_of_element_located((By.CLASS_NAME, 'C_USER_LIST_TEXT_DIV'))    )\n",
    "    except TimeoutException:\n",
    "        logFile.writelines('5000 rows in the table at the page has not been loaded\\n')\n",
    "        driver.quit()\n",
    "        logFile.close()\n",
    "\n",
    "    elem = driver.find_elements_by_class_name(\"C_USER_LIST_TEXT_DIV\")\n",
    "    elem[number].click()\n",
    "#    time.sleep(5)\n",
    "    try:\n",
    "        item = WebDriverWait(driver, 60).until(EC.visibility_of_element_located((By.CLASS_NAME, '_GAGW'))    )\n",
    "    except TimeoutException:\n",
    "        logFile.writelines('{0}{1}{2}'.format('The page of the visitor with ID = ',\n",
    "                                           clientsID[number],\n",
    "                                           ' has not opened to download the visitor data\\n')\n",
    "        driver.quit()\n",
    "        logFile.close()\n",
    "\n",
    "    item = driver.find_elements_by_class_name(\"_GAGW\")\n",
    "    item[5].click()\n",
    "    logFile.writelines('{0}{2}{1}{3}'.format(number,clientsID[number],'. ', '.\\n'))\n",
    "    driver.get(summaryTableURL)\n",
    "\n",
    "\n",
    "\n",
    "#    driver.back()\n",
    "#    driver.back()\n",
    "#    driver.back()\n",
    "#    driver.back()\n",
    "#    driver.back()\n",
    "    try:\n",
    "        element = WebDriverWait(driver, 60).until(EC.visibility_of_element_located((By.NAME, 'galaxy'))    )\n",
    "    except TimeoutException:\n",
    "        logFile.writelines('5000 rows in the table at the page has not been loaded\\n')\n",
    "        driver.quit()\n",
    "        logFile.close()\n",
    "        \n",
    "#    time.sleep(15)\n",
    "    driver.switch_to.frame(driver.find_element_by_name('galaxy'))\n",
    "\n",
    "# closing the log file\n",
    "logFile.close()\n",
    "\n",
    "driver.close()"
   ]
  },
  {
   "cell_type": "code",
   "execution_count": null,
   "metadata": {},
   "outputs": [],
   "source": [
    "driver.close()"
   ]
  },
  {
   "cell_type": "code",
   "execution_count": 8,
   "metadata": {
    "scrolled": true
   },
   "outputs": [
    {
     "name": "stdout",
     "output_type": "stream",
     "text": [
      "Help on module selenium.webdriver.common.by in selenium.webdriver.common:\n",
      "\n",
      "NAME\n",
      "    selenium.webdriver.common.by - The By implementation.\n",
      "\n",
      "CLASSES\n",
      "    builtins.object\n",
      "        By\n",
      "    \n",
      "    class By(builtins.object)\n",
      "     |  Set of supported locator strategies.\n",
      "     |  \n",
      "     |  Data descriptors defined here:\n",
      "     |  \n",
      "     |  __dict__\n",
      "     |      dictionary for instance variables (if defined)\n",
      "     |  \n",
      "     |  __weakref__\n",
      "     |      list of weak references to the object (if defined)\n",
      "     |  \n",
      "     |  ----------------------------------------------------------------------\n",
      "     |  Data and other attributes defined here:\n",
      "     |  \n",
      "     |  CLASS_NAME = 'class name'\n",
      "     |  \n",
      "     |  CSS_SELECTOR = 'css selector'\n",
      "     |  \n",
      "     |  ID = 'id'\n",
      "     |  \n",
      "     |  LINK_TEXT = 'link text'\n",
      "     |  \n",
      "     |  NAME = 'name'\n",
      "     |  \n",
      "     |  PARTIAL_LINK_TEXT = 'partial link text'\n",
      "     |  \n",
      "     |  TAG_NAME = 'tag name'\n",
      "     |  \n",
      "     |  XPATH = 'xpath'\n",
      "\n",
      "FILE\n",
      "    c:\\programdata\\anaconda3\\lib\\site-packages\\selenium\\webdriver\\common\\by.py\n",
      "\n",
      "\n"
     ]
    }
   ],
   "source": [
    "help(selenium.webdriver.common.by)"
   ]
  },
  {
   "cell_type": "code",
   "execution_count": 9,
   "metadata": {
    "scrolled": true
   },
   "outputs": [
    {
     "ename": "NameError",
     "evalue": "name 'driver' is not defined",
     "output_type": "error",
     "traceback": [
      "\u001b[1;31m---------------------------------------------------------------------------\u001b[0m",
      "\u001b[1;31mNameError\u001b[0m                                 Traceback (most recent call last)",
      "\u001b[1;32m<ipython-input-9-d1a8a353b577>\u001b[0m in \u001b[0;36m<module>\u001b[1;34m()\u001b[0m\n\u001b[1;32m----> 1\u001b[1;33m \u001b[0mdriver\u001b[0m\u001b[1;33m.\u001b[0m\u001b[0mfind_element_by_class_name\u001b[0m\u001b[1;33m\u001b[0m\u001b[0m\n\u001b[0m",
      "\u001b[1;31mNameError\u001b[0m: name 'driver' is not defined"
     ]
    }
   ],
   "source": [
    "driver.find_element_by_class_name\n"
   ]
  },
  {
   "cell_type": "code",
   "execution_count": null,
   "metadata": {},
   "outputs": [],
   "source": []
  },
  {
   "cell_type": "code",
   "execution_count": null,
   "metadata": {},
   "outputs": [],
   "source": []
  },
  {
   "cell_type": "code",
   "execution_count": null,
   "metadata": {},
   "outputs": [],
   "source": []
  },
  {
   "cell_type": "code",
   "execution_count": 2,
   "metadata": {},
   "outputs": [
    {
     "name": "stdout",
     "output_type": "stream",
     "text": [
      "Help on class WebDriverWait in module selenium.webdriver.support.wait:\n",
      "\n",
      "class WebDriverWait(builtins.object)\n",
      " |  Methods defined here:\n",
      " |  \n",
      " |  __init__(self, driver, timeout, poll_frequency=0.5, ignored_exceptions=None)\n",
      " |      Constructor, takes a WebDriver instance and timeout in seconds.\n",
      " |      \n",
      " |      :Args:\n",
      " |       - driver - Instance of WebDriver (Ie, Firefox, Chrome or Remote)\n",
      " |       - timeout - Number of seconds before timing out\n",
      " |       - poll_frequency - sleep interval between calls\n",
      " |         By default, it is 0.5 second.\n",
      " |       - ignored_exceptions - iterable structure of exception classes ignored during calls.\n",
      " |         By default, it contains NoSuchElementException only.\n",
      " |      \n",
      " |      Example:\n",
      " |       from selenium.webdriver.support.ui import WebDriverWait \n",
      " |      \n",
      " |       element = WebDriverWait(driver, 10).until(lambda x: x.find_element_by_id(\"someId\")) \n",
      " |      \n",
      " |       is_disappeared = WebDriverWait(driver, 30, 1, (ElementNotVisibleException)).\\ \n",
      " |      \n",
      " |                   until_not(lambda x: x.find_element_by_id(\"someId\").is_displayed())\n",
      " |  \n",
      " |  __repr__(self)\n",
      " |      Return repr(self).\n",
      " |  \n",
      " |  until(self, method, message='')\n",
      " |      Calls the method provided with the driver as an argument until the         return value is not False.\n",
      " |  \n",
      " |  until_not(self, method, message='')\n",
      " |      Calls the method provided with the driver as an argument until the         return value is False.\n",
      " |  \n",
      " |  ----------------------------------------------------------------------\n",
      " |  Data descriptors defined here:\n",
      " |  \n",
      " |  __dict__\n",
      " |      dictionary for instance variables (if defined)\n",
      " |  \n",
      " |  __weakref__\n",
      " |      list of weak references to the object (if defined)\n",
      "\n"
     ]
    }
   ],
   "source": [
    "help(WebDriverWait)"
   ]
  },
  {
   "cell_type": "code",
   "execution_count": 44,
   "metadata": {},
   "outputs": [
    {
     "data": {
      "text/html": [
       "<div>\n",
       "<style scoped>\n",
       "    .dataframe tbody tr th:only-of-type {\n",
       "        vertical-align: middle;\n",
       "    }\n",
       "\n",
       "    .dataframe tbody tr th {\n",
       "        vertical-align: top;\n",
       "    }\n",
       "\n",
       "    .dataframe thead th {\n",
       "        text-align: right;\n",
       "    }\n",
       "</style>\n",
       "<table border=\"1\" class=\"dataframe\">\n",
       "  <thead>\n",
       "    <tr style=\"text-align: right;\">\n",
       "      <th></th>\n",
       "      <th>Сеансы</th>\n",
       "      <th>Сред. длительность сеанса</th>\n",
       "      <th>Показатель отказов</th>\n",
       "      <th>Доход</th>\n",
       "      <th>Транзакции</th>\n",
       "      <th>Коэффициент конверсии цели</th>\n",
       "    </tr>\n",
       "    <tr>\n",
       "      <th>Идентификатор клиента</th>\n",
       "      <th></th>\n",
       "      <th></th>\n",
       "      <th></th>\n",
       "      <th></th>\n",
       "      <th></th>\n",
       "      <th></th>\n",
       "    </tr>\n",
       "  </thead>\n",
       "  <tbody>\n",
       "    <tr>\n",
       "      <th>262307731.1464884920</th>\n",
       "      <td>25</td>\n",
       "      <td>601.84000</td>\n",
       "      <td>0.120000</td>\n",
       "      <td>0</td>\n",
       "      <td>0</td>\n",
       "      <td>0</td>\n",
       "    </tr>\n",
       "    <tr>\n",
       "      <th>1370805766.1445343102</th>\n",
       "      <td>21</td>\n",
       "      <td>2.52381</td>\n",
       "      <td>0.952381</td>\n",
       "      <td>0</td>\n",
       "      <td>0</td>\n",
       "      <td>0</td>\n",
       "    </tr>\n",
       "    <tr>\n",
       "      <th>1754705724.1482953893</th>\n",
       "      <td>14</td>\n",
       "      <td>0.00000</td>\n",
       "      <td>1.000000</td>\n",
       "      <td>0</td>\n",
       "      <td>0</td>\n",
       "      <td>0</td>\n",
       "    </tr>\n",
       "  </tbody>\n",
       "</table>\n",
       "</div>"
      ],
      "text/plain": [
       "                       Сеансы  Сред. длительность сеанса  Показатель отказов  \\\n",
       "Идентификатор клиента                                                          \n",
       "262307731.1464884920       25                  601.84000            0.120000   \n",
       "1370805766.1445343102      21                    2.52381            0.952381   \n",
       "1754705724.1482953893      14                    0.00000            1.000000   \n",
       "\n",
       "                       Доход  Транзакции  Коэффициент конверсии цели  \n",
       "Идентификатор клиента                                                 \n",
       "262307731.1464884920       0           0                           0  \n",
       "1370805766.1445343102      0           0                           0  \n",
       "1754705724.1482953893      0           0                           0  "
      ]
     },
     "execution_count": 44,
     "metadata": {},
     "output_type": "execute_result"
    }
   ],
   "source": [
    "\n",
    "clientsID.head(3)"
   ]
  },
  {
   "cell_type": "code",
   "execution_count": 13,
   "metadata": {
    "scrolled": true
   },
   "outputs": [
    {
     "data": {
      "text/plain": [
       "\"\\ndowloadedFileName = '{0}{5}{1}{5}{3}{5}{4}{2}{6}'.format('Google Analytics', accountName,\\n                              startDate[6:]+startDate[3:5]+startDate[0:2],\\n                              endDate[6:]+endDate[3:5]+endDate[0:2],\\n                              ' - ',' ','.xlsx')\\n\""
      ]
     },
     "execution_count": 13,
     "metadata": {},
     "output_type": "execute_result"
    }
   ],
   "source": [
    "\"\"\"\n",
    "dowloadedFileName = '{0}{5}{1}{5}{3}{5}{4}{2}{6}'.format('Google Analytics', accountName,\n",
    "                              startDate[6:]+startDate[3:5]+startDate[0:2],\n",
    "                              endDate[6:]+endDate[3:5]+endDate[0:2],\n",
    "                              ' - ',' ','.xlsx')\n",
    "\"\"\"                              "
   ]
  },
  {
   "cell_type": "code",
   "execution_count": null,
   "metadata": {},
   "outputs": [],
   "source": [
    "logFile = open('log_file.txt', 'w')\n",
    "logFile.writelines('# of visitors:/n')\n",
    "logFile.writelines(len(clientsID))\n",
    "logFile.writelines('/n')\n",
    "logFile.close()"
   ]
  },
  {
   "cell_type": "code",
   "execution_count": null,
   "metadata": {},
   "outputs": [],
   "source": []
  },
  {
   "cell_type": "code",
   "execution_count": null,
   "metadata": {},
   "outputs": [],
   "source": [
    "# j is a number of iterations over elements in\n",
    "if j in [101*i for i in range(1,50)]:\n",
    "    for k in range(0,100):\n",
    "        os.rename(clientDataFileList[k],clientsID.iat[0,k+j-101])"
   ]
  },
  {
   "cell_type": "code",
   "execution_count": null,
   "metadata": {},
   "outputs": [],
   "source": []
  },
  {
   "cell_type": "code",
   "execution_count": 15,
   "metadata": {},
   "outputs": [],
   "source": [
    "logFile.writelines('# of elements in by selenium: ')"
   ]
  },
  {
   "cell_type": "code",
   "execution_count": null,
   "metadata": {},
   "outputs": [],
   "source": []
  },
  {
   "cell_type": "code",
   "execution_count": null,
   "metadata": {},
   "outputs": [],
   "source": []
  },
  {
   "cell_type": "code",
   "execution_count": null,
   "metadata": {},
   "outputs": [],
   "source": []
  },
  {
   "cell_type": "code",
   "execution_count": null,
   "metadata": {},
   "outputs": [],
   "source": []
  },
  {
   "cell_type": "code",
   "execution_count": null,
   "metadata": {},
   "outputs": [],
   "source": []
  },
  {
   "cell_type": "code",
   "execution_count": null,
   "metadata": {},
   "outputs": [],
   "source": []
  },
  {
   "cell_type": "code",
   "execution_count": null,
   "metadata": {},
   "outputs": [],
   "source": []
  },
  {
   "cell_type": "code",
   "execution_count": null,
   "metadata": {},
   "outputs": [],
   "source": []
  },
  {
   "cell_type": "code",
   "execution_count": null,
   "metadata": {},
   "outputs": [],
   "source": []
  }
 ],
 "metadata": {
  "kernelspec": {
   "display_name": "Python 3",
   "language": "python",
   "name": "python3"
  },
  "language_info": {
   "codemirror_mode": {
    "name": "ipython",
    "version": 3
   },
   "file_extension": ".py",
   "mimetype": "text/x-python",
   "name": "python",
   "nbconvert_exporter": "python",
   "pygments_lexer": "ipython3",
   "version": "3.6.5"
  }
 },
 "nbformat": 4,
 "nbformat_minor": 2
}
